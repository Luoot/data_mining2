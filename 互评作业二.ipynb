{
 "cells": [
  {
   "cell_type": "markdown",
   "id": "c630e82b",
   "metadata": {},
   "source": [
    "网页浏览行为关联规则挖掘\n",
    "\n",
    "任务: 分析用户在网站上的浏览行为数据，挖掘潜在的跳转规律，为网站提供优化导航结构的建议。\n",
    "\n",
    "数据集: UCI ML Repository - Anonymous Microsoft Web Data，该数据为“来自 www.microsoft.com 的匿名网络数据”，通过对 www.microsoft.com 日志进行采样和处理来创建数据。该数据记录了38000名匿名、随机选择的用户使用 www.microsoft.com。对于每个用户，数据列出了用户在一周内访问的网站（Vroots）的所有区域。\n",
    "\n",
    "\n",
    "数据集格式说明：\n",
    "数据采用基于 ASCII 的稀疏数据格式，数据文件的每一行都以一个字母开头，其中开头字母‘A’表示网站属性，数据包含5个字段，分别为A属性、Vroot属性ID、可忽略的数字、Vroot标题、Vroot网站网址。\n",
    "对于每个用户，都有一个case行，后跟零个或多个vote行，\n",
    "C,\"10164\",10164           表示ID为10164的用户网站访问情况\n",
    "V,1123,1\n",
    "V,1009,1\n",
    "V,1052,1                表示ID为10164的用户访问网站的属性ID。\n",
    "\n",
    "由此可见，数据集分为网站数据、用户数据、用户访问网站数据。"
   ]
  },
  {
   "cell_type": "markdown",
   "id": "77b195e6",
   "metadata": {},
   "source": [
    "1.数据预处理: 清洗数据，处理缺失值，提取用户浏览记录。\n",
    "1.1 数据预处理\n",
    " \n",
    " 对数据集进行处理，分别获取网站数据、用户数据、用户访问网站数据"
   ]
  },
  {
   "cell_type": "code",
   "execution_count": 2,
   "id": "68774398",
   "metadata": {},
   "outputs": [
    {
     "name": "stdout",
     "output_type": "stream",
     "text": [
      "网站数据如下：\n",
      "        ID                              Title           Stream\n",
      "0    1287          \"International AutoRoute\"   \"/autoroute\"\\n\n",
      "1    1288                          \"library\"     \"/library\"\\n\n",
      "2    1289  \"Master Chef Product Information\"  \"/masterchef\"\\n\n",
      "3    1297                  \"Central America\"    \"/centroam\"\\n\n",
      "4    1215         \"For Developers Only Info\"   \"/developer\"\\n\n",
      "..    ...                                ...              ...\n",
      "289  1219    \"Corporate Advertising Content\"         \"/ads\"\\n\n",
      "290  1030                \"Windows NT Server\"    \"/ntserver\"\\n\n",
      "291  1182                          \"Fortran\"     \"/fortran\"\\n\n",
      "292  1100                  \"MS in Education\"   \"/education\"\\n\n",
      "293  1210                      \"SNA Support\"  \"/snasupport\"\\n\n",
      "\n",
      "[294 rows x 3 columns]\n"
     ]
    }
   ],
   "source": [
    "import pandas as pd\n",
    "import os.path as osp\n",
    "from mlxtend.frequent_patterns import apriori\n",
    "from mlxtend.frequent_patterns import association_rules\n",
    "root_path = \"./datasets\"\n",
    "\n",
    "#读取数据\n",
    "with open('./datasets/anonymous-msweb.data', 'r') as f:\n",
    "   data = f.readlines()\n",
    "##选择A开头的网站数据，存入Web_data中\n",
    "##选择C开头的用户数据，存入user_data中\n",
    "##在V开头的数据后，添加V行的用户ID信息，存入visit_data，表示用户访问网站情况\n",
    "a_lines = [line for line in data if line.startswith('A')]\n",
    "c_lines = [line for line in data if line.startswith('C')]\n",
    "a_data = pd.DataFrame([x.split(',') for x in a_lines], columns=['Type', 'ID', 'ignore', 'Title', 'Stream'])\n",
    "c_data = pd.DataFrame([x.split(',') for x in c_lines], columns=['Type', 'UserID', 'num'])\n",
    "ac_lines = []\n",
    "for line in data:\n",
    "    if line.startswith('C')|line.startswith('V'):\n",
    "        ac_lines.append(line)\n",
    "##将C、V开头的数据整合为以V开头的数据，将用户信息添加到V开头的数据后\n",
    "result = []\n",
    "temp = []\n",
    "for line in ac_lines:\n",
    "    if line.startswith('C'):\n",
    "        if temp:\n",
    "            result.append(temp)\n",
    "        temp = [line]\n",
    "    else:\n",
    "        temp.append(line)\n",
    "if temp:\n",
    "    result.append(temp)\n",
    "\n",
    "fw_data = []\n",
    "for group in result:\n",
    "    c_line1 = group[0].split(',')\n",
    "    for v_line1 in group[1:]:\n",
    "        fw_data.append(v_line1 + ',' + c_line1[1])\n",
    "fw_dt = pd.DataFrame([x.split(',') for x in fw_data], columns=['Type', 'UserID', 'ign', 'ID'])\n",
    "\n",
    "a_attri = ['ID', 'Title', 'Stream']\n",
    "c_attri = ['UserID']\n",
    "fw_attri = ['UserID', 'ID']\n",
    "\n",
    "web_data = a_data[a_attri]\n",
    "print(\"网站数据如下：\\n\",web_data)"
   ]
  },
  {
   "cell_type": "code",
   "execution_count": 3,
   "id": "a04d23cc",
   "metadata": {},
   "outputs": [
    {
     "name": "stdout",
     "output_type": "stream",
     "text": [
      "用户数据如下：\n",
      "         UserID\n",
      "0      \"10001\"\n",
      "1      \"10002\"\n",
      "2      \"10003\"\n",
      "3      \"10004\"\n",
      "4      \"10005\"\n",
      "...        ...\n",
      "32706  \"42707\"\n",
      "32707  \"42708\"\n",
      "32708  \"42709\"\n",
      "32709  \"42710\"\n",
      "32710  \"42711\"\n",
      "\n",
      "[32711 rows x 1 columns]\n"
     ]
    }
   ],
   "source": [
    "user_data = c_data[c_attri]\n",
    "print(\"用户数据如下：\\n\",user_data)"
   ]
  },
  {
   "cell_type": "code",
   "execution_count": 5,
   "id": "9b75c3c8",
   "metadata": {},
   "outputs": [
    {
     "name": "stdout",
     "output_type": "stream",
     "text": [
      "用户访问网站数据如下：\n",
      "       UserID       ID\n",
      "0       1000  \"10001\"\n",
      "1       1001  \"10001\"\n",
      "2       1002  \"10001\"\n",
      "3       1001  \"10002\"\n",
      "4       1003  \"10002\"\n",
      "...      ...      ...\n",
      "98649   1003  \"42709\"\n",
      "98650   1035  \"42710\"\n",
      "98651   1001  \"42710\"\n",
      "98652   1018  \"42710\"\n",
      "98653   1008  \"42711\"\n",
      "\n",
      "[98654 rows x 2 columns]\n"
     ]
    }
   ],
   "source": [
    "visit_data =fw_dt[fw_attri]\n",
    "print(\"用户访问网站数据如下：\\n\",visit_data)"
   ]
  },
  {
   "cell_type": "code",
   "execution_count": null,
   "id": "c3bb6375",
   "metadata": {},
   "outputs": [],
   "source": [
    "根据数据处理结果可以看出，该训练数据集中网站共有294个，以ID、网站Title、网站Stream标识；用户共有32711个，以UserID标识；用户访问网站记录共有98654条，以UserID、网站ID标识。"
   ]
  },
  {
   "cell_type": "markdown",
   "id": "04f9d3b4",
   "metadata": {},
   "source": [
    "1.2 缺失值处理"
   ]
  },
  {
   "cell_type": "code",
   "execution_count": 11,
   "id": "341cbbc0",
   "metadata": {},
   "outputs": [
    {
     "name": "stdout",
     "output_type": "stream",
     "text": [
      "网站数据缺失值情况： \n",
      " ID        0\n",
      "Title     0\n",
      "Stream    0\n",
      "dtype: int64\n",
      "用户数据缺失值情况： \n",
      " UserID    0\n",
      "dtype: int64\n",
      "用户访问网站数据缺失值情况： \n",
      " UserID    0\n",
      "ID        0\n",
      "dtype: int64\n"
     ]
    }
   ],
   "source": [
    "print('网站数据缺失值情况： \\n',web_data.isna().sum())\n",
    "print('用户数据缺失值情况： \\n',user_data.isna().sum())\n",
    "print('用户访问网站数据缺失值情况： \\n',visit_data.isna().sum())"
   ]
  },
  {
   "cell_type": "markdown",
   "id": "d125889f",
   "metadata": {},
   "source": [
    "统计发现，数据中不存在缺失值。"
   ]
  },
  {
   "cell_type": "markdown",
   "id": "bfa9b461",
   "metadata": {},
   "source": [
    "1.3 提取用户浏览记录"
   ]
  },
  {
   "cell_type": "code",
   "execution_count": 12,
   "id": "2ae3b4ff",
   "metadata": {},
   "outputs": [
    {
     "name": "stdout",
     "output_type": "stream",
     "text": [
      "用户访问网站数据如下：\n",
      "       UserID       ID\n",
      "0       1000  \"10001\"\n",
      "1       1001  \"10001\"\n",
      "2       1002  \"10001\"\n",
      "3       1001  \"10002\"\n",
      "4       1003  \"10002\"\n",
      "...      ...      ...\n",
      "98649   1003  \"42709\"\n",
      "98650   1035  \"42710\"\n",
      "98651   1001  \"42710\"\n",
      "98652   1018  \"42710\"\n",
      "98653   1008  \"42711\"\n",
      "\n",
      "[98654 rows x 2 columns]\n"
     ]
    }
   ],
   "source": [
    "visit_data =fw_dt[fw_attri]\n",
    "print(\"用户访问网站数据如下：\\n\",visit_data)"
   ]
  },
  {
   "cell_type": "markdown",
   "id": "55b36254",
   "metadata": {},
   "source": [
    "经数据预处理得出的visit_data即为用户浏览记录，上述输出结果中UserId为用户的ID信息，ID为当前用户访问的网站ID信息。"
   ]
  },
  {
   "cell_type": "markdown",
   "id": "b2da95da",
   "metadata": {},
   "source": [
    "2.  数据探索性分析: 分析最常被访问的页面、页面访问量分布等。"
   ]
  },
  {
   "cell_type": "code",
   "execution_count": 22,
   "id": "a7d13064",
   "metadata": {},
   "outputs": [
    {
     "name": "stdout",
     "output_type": "stream",
     "text": [
      "页面访问量分布：\n",
      " \"40310\"    35\n",
      "\"25185\"    31\n",
      "\"12147\"    30\n",
      "\"10348\"    28\n",
      "\"25922\"    28\n",
      "           ..\n",
      "\"31467\"     1\n",
      "\"31471\"     1\n",
      "\"31472\"     1\n",
      "\"31473\"     1\n",
      "\"42711\"     1\n",
      "Name: ID, Length: 32711, dtype: int64\n"
     ]
    }
   ],
   "source": [
    "ID_counts = visit_data[\"ID\"].value_counts()\n",
    "print('页面访问量分布：\\n',ID_counts)"
   ]
  },
  {
   "cell_type": "markdown",
   "id": "2f8283b1",
   "metadata": {},
   "source": [
    "上述统计结果表示，左侧为网站的ID，右侧为用户访问次数。"
   ]
  },
  {
   "cell_type": "code",
   "execution_count": 21,
   "id": "425ce2ac",
   "metadata": {},
   "outputs": [
    {
     "name": "stdout",
     "output_type": "stream",
     "text": [
      "最常被访问的页面：\n",
      " \"40310\"    35\n",
      "\"25185\"    31\n",
      "\"12147\"    30\n",
      "\"10348\"    28\n",
      "\"25922\"    28\n",
      "\"12815\"    28\n",
      "\"41066\"    28\n",
      "\"19860\"    26\n",
      "\"31809\"    26\n",
      "\"40122\"    24\n",
      "Name: ID, dtype: int64\n"
     ]
    }
   ],
   "source": [
    "print('最常被访问的页面：\\n',ID_counts.head(10))"
   ]
  },
  {
   "cell_type": "markdown",
   "id": "ac9fe0ab",
   "metadata": {},
   "source": [
    "上述统计结果表示，最常被访问的10个网站页面的网站ID值为40310、25185、12147、10348、25922、12815、41066、19860、31809、40122。"
   ]
  },
  {
   "cell_type": "markdown",
   "id": "ae47bbe4",
   "metadata": {},
   "source": [
    "3.  关联规则挖掘: 使用Apriori算法根据用户浏览记录计算频繁项集和关联规则。\n",
    "频繁项集和关联规则如下"
   ]
  },
  {
   "cell_type": "code",
   "execution_count": 25,
   "id": "75b99268",
   "metadata": {},
   "outputs": [
    {
     "name": "stderr",
     "output_type": "stream",
     "text": [
      "C:\\Users\\59554\\AppData\\Local\\Temp\\ipykernel_15916\\1585013422.py:1: SettingWithCopyWarning: \n",
      "A value is trying to be set on a copy of a slice from a DataFrame.\n",
      "Try using .loc[row_indexer,col_indexer] = value instead\n",
      "\n",
      "See the caveats in the documentation: https://pandas.pydata.org/pandas-docs/stable/user_guide/indexing.html#returning-a-view-versus-a-copy\n",
      "  visit_data[\"ID\"] = visit_data[\"ID\"].str.strip('\"')\n"
     ]
    },
    {
     "name": "stdout",
     "output_type": "stream",
     "text": [
      "频繁项集：\n",
      "      support        itemsets\n",
      "0    0.059649         (10021)\n",
      "1    0.080702         (10068)\n",
      "2    0.056140         (10132)\n",
      "3    0.059649         (10156)\n",
      "4    0.063158         (10208)\n",
      "..        ...             ...\n",
      "161  0.052632  (33341, 25922)\n",
      "162  0.056140  (40310, 25922)\n",
      "163  0.052632  (41066, 25922)\n",
      "164  0.056140  (36955, 40310)\n",
      "165  0.052632  (41066, 40310)\n",
      "\n",
      "[166 rows x 2 columns]\n",
      "关联规则：\n",
      "   antecedents consequents  antecedent support  consequent support   support  \\\n",
      "0      (10348)     (12147)            0.098246            0.105263  0.056140   \n",
      "1      (12147)     (10348)            0.105263            0.098246  0.056140   \n",
      "2      (10348)     (25922)            0.098246            0.098246  0.056140   \n",
      "3      (25922)     (10348)            0.098246            0.098246  0.056140   \n",
      "4      (40310)     (10348)            0.122807            0.098246  0.052632   \n",
      "5      (10348)     (40310)            0.098246            0.122807  0.052632   \n",
      "6      (10454)     (40310)            0.077193            0.122807  0.052632   \n",
      "7      (40310)     (10454)            0.122807            0.077193  0.052632   \n",
      "8      (40310)     (12147)            0.122807            0.105263  0.059649   \n",
      "9      (12147)     (40310)            0.105263            0.122807  0.059649   \n",
      "10     (23157)     (25922)            0.077193            0.098246  0.052632   \n",
      "11     (25922)     (23157)            0.098246            0.077193  0.052632   \n",
      "12     (25185)     (40310)            0.108772            0.122807  0.052632   \n",
      "13     (40310)     (25185)            0.122807            0.108772  0.052632   \n",
      "14     (33341)     (25922)            0.077193            0.098246  0.052632   \n",
      "15     (25922)     (33341)            0.098246            0.077193  0.052632   \n",
      "16     (40310)     (25922)            0.122807            0.098246  0.056140   \n",
      "17     (25922)     (40310)            0.098246            0.122807  0.056140   \n",
      "18     (41066)     (25922)            0.098246            0.098246  0.052632   \n",
      "19     (25922)     (41066)            0.098246            0.098246  0.052632   \n",
      "20     (36955)     (40310)            0.080702            0.122807  0.056140   \n",
      "21     (40310)     (36955)            0.122807            0.080702  0.056140   \n",
      "22     (41066)     (40310)            0.098246            0.122807  0.052632   \n",
      "23     (40310)     (41066)            0.122807            0.098246  0.052632   \n",
      "\n",
      "    confidence      lift  leverage  conviction  zhangs_metric  \n",
      "0     0.571429  5.428571  0.045799    2.087719       0.904669  \n",
      "1     0.533333  5.428571  0.045799    1.932331       0.911765  \n",
      "2     0.571429  5.816327  0.046488    2.104094       0.918288  \n",
      "3     0.571429  5.816327  0.046488    2.104094       0.918288  \n",
      "4     0.428571  4.362245  0.040566    1.578070       0.878667  \n",
      "5     0.535714  4.362245  0.040566    1.889339       0.854734  \n",
      "6     0.681818  5.551948  0.043152    2.756892       0.888466  \n",
      "7     0.428571  5.551948  0.043152    1.614912       0.934667  \n",
      "8     0.485714  4.614286  0.046722    1.739766       0.892941  \n",
      "9     0.566667  4.614286  0.046722    2.024291       0.875433  \n",
      "10    0.681818  6.939935  0.045048    2.834085       0.927503  \n",
      "11    0.535714  6.939935  0.045048    1.987584       0.949157  \n",
      "12    0.483871  3.940092  0.039274    1.699561       0.837270  \n",
      "13    0.428571  3.940092  0.039274    1.559649       0.850667  \n",
      "14    0.681818  6.939935  0.045048    2.834085       0.927503  \n",
      "15    0.535714  6.939935  0.045048    1.987584       0.949157  \n",
      "16    0.457143  4.653061  0.044075    1.661127       0.895000  \n",
      "17    0.571429  4.653061  0.044075    2.046784       0.870623  \n",
      "18    0.535714  5.452806  0.042979    1.942240       0.905577  \n",
      "19    0.535714  5.452806  0.042979    1.942240       0.905577  \n",
      "20    0.695652  5.664596  0.046230    2.882206       0.895754  \n",
      "21    0.457143  5.664596  0.046230    1.693444       0.938750  \n",
      "22    0.535714  4.362245  0.040566    1.889339       0.854734  \n",
      "23    0.428571  4.362245  0.040566    1.578070       0.878667  \n"
     ]
    },
    {
     "name": "stderr",
     "output_type": "stream",
     "text": [
      "D:\\dev\\Python311\\Lib\\site-packages\\mlxtend\\frequent_patterns\\fpcommon.py:110: DeprecationWarning: DataFrames with non-bool types result in worse computationalperformance and their support might be discontinued in the future.Please use a DataFrame with bool type\n",
      "  warnings.warn(\n"
     ]
    }
   ],
   "source": [
    "visit_data[\"ID\"] = visit_data[\"ID\"].str.strip('\"')\n",
    "basket = (visit_data.groupby([\"UserID\", \"ID\"])[\"ID\"]\n",
    "          .count().unstack().reset_index().fillna(0)\n",
    "          .set_index(\"UserID\"))\n",
    "\n",
    "frequent_itemsets = apriori(basket, min_support=0.05, use_colnames=True)\n",
    "rules = association_rules(frequent_itemsets, metric=\"lift\", min_threshold=1)\n",
    "\n",
    "print(\"频繁项集：\")\n",
    "print(frequent_itemsets)\n",
    "\n",
    "print(\"关联规则：\")\n",
    "print(rules)"
   ]
  },
  {
   "cell_type": "markdown",
   "id": "739fef0d",
   "metadata": {},
   "source": [
    "根据结果可以看出，频繁项集frequent_itemsets中support是指某个集合在所有事务中出现的频率，而itemsets是指支持度大于等于最小支持度的集合。\n",
    "在关联规则中，antecedents和consequents分别指规则的前件和后件，即规则中的条件和结论。antecedent support和consequent support分别指前件和后件在所有事务中出现的频率，而support是指同时出现的频率，confidence、lift、leverage、conviction和zhangs_metric参数分别是指置信度、提升度、杠杆率、确信度和Zhang’s metric。"
   ]
  },
  {
   "cell_type": "markdown",
   "id": "570ac4b3",
   "metadata": {},
   "source": [
    "4.  结果评估: 计算关联规则的支持度、置信度和提升度，得出强关联规则。\n",
    "\n",
    "支持度、置信度、提升度的计算结果如下："
   ]
  },
  {
   "cell_type": "code",
   "execution_count": 26,
   "id": "1b95b8fb",
   "metadata": {},
   "outputs": [
    {
     "name": "stdout",
     "output_type": "stream",
     "text": [
      "支持度：\n",
      "0     0.056140\n",
      "1     0.056140\n",
      "2     0.056140\n",
      "3     0.056140\n",
      "4     0.052632\n",
      "5     0.052632\n",
      "6     0.052632\n",
      "7     0.052632\n",
      "8     0.059649\n",
      "9     0.059649\n",
      "10    0.052632\n",
      "11    0.052632\n",
      "12    0.052632\n",
      "13    0.052632\n",
      "14    0.052632\n",
      "15    0.052632\n",
      "16    0.056140\n",
      "17    0.056140\n",
      "18    0.052632\n",
      "19    0.052632\n",
      "20    0.056140\n",
      "21    0.056140\n",
      "22    0.052632\n",
      "23    0.052632\n",
      "Name: support, dtype: float64\n",
      "置信度：\n",
      "0     0.571429\n",
      "1     0.533333\n",
      "2     0.571429\n",
      "3     0.571429\n",
      "4     0.428571\n",
      "5     0.535714\n",
      "6     0.681818\n",
      "7     0.428571\n",
      "8     0.485714\n",
      "9     0.566667\n",
      "10    0.681818\n",
      "11    0.535714\n",
      "12    0.483871\n",
      "13    0.428571\n",
      "14    0.681818\n",
      "15    0.535714\n",
      "16    0.457143\n",
      "17    0.571429\n",
      "18    0.535714\n",
      "19    0.535714\n",
      "20    0.695652\n",
      "21    0.457143\n",
      "22    0.535714\n",
      "23    0.428571\n",
      "Name: confidence, dtype: float64\n",
      "提升度：\n",
      "0     5.428571\n",
      "1     5.428571\n",
      "2     5.816327\n",
      "3     5.816327\n",
      "4     4.362245\n",
      "5     4.362245\n",
      "6     5.551948\n",
      "7     5.551948\n",
      "8     4.614286\n",
      "9     4.614286\n",
      "10    6.939935\n",
      "11    6.939935\n",
      "12    3.940092\n",
      "13    3.940092\n",
      "14    6.939935\n",
      "15    6.939935\n",
      "16    4.653061\n",
      "17    4.653061\n",
      "18    5.452806\n",
      "19    5.452806\n",
      "20    5.664596\n",
      "21    5.664596\n",
      "22    4.362245\n",
      "23    4.362245\n",
      "Name: lift, dtype: float64\n"
     ]
    }
   ],
   "source": [
    "print(\"支持度：\")\n",
    "print(rules[\"support\"])\n",
    "\n",
    "print(\"置信度：\")\n",
    "print(rules[\"confidence\"])\n",
    "\n",
    "print(\"提升度：\")\n",
    "print(rules[\"lift\"])"
   ]
  },
  {
   "cell_type": "markdown",
   "id": "0a5c4570",
   "metadata": {},
   "source": [
    "在Python中，使用Apriori算法来计算关联规则的支持度、置信度和提升度，并总结出其中的强关联规则。如果关联规则X->Y的支持度和置信度分别大于或等于用户指定的最小支持率minsupport和最小置信度minconfidence，则称关联规则X->Y为强关联规则，否则称关联规则X->Y为弱关联规则。\n",
    "根据计算结果可以看出，其中规则满足支持度和置信度大于或等于minsupport=0.05和最小置信度minconfidence=0.5的规则都是强关联规则。\n",
    "强关联规则如下："
   ]
  },
  {
   "cell_type": "code",
   "execution_count": 28,
   "id": "b7be0595",
   "metadata": {},
   "outputs": [
    {
     "name": "stdout",
     "output_type": "stream",
     "text": [
      "强关联规则：\n",
      "    antecedents consequents  antecedent support  consequent support   support  \\\n",
      "5      (10348)     (40310)            0.098246            0.122807  0.052632   \n",
      "6      (10454)     (40310)            0.077193            0.122807  0.052632   \n",
      "10     (23157)     (25922)            0.077193            0.098246  0.052632   \n",
      "11     (25922)     (23157)            0.098246            0.077193  0.052632   \n",
      "14     (33341)     (25922)            0.077193            0.098246  0.052632   \n",
      "15     (25922)     (33341)            0.098246            0.077193  0.052632   \n",
      "18     (41066)     (25922)            0.098246            0.098246  0.052632   \n",
      "19     (25922)     (41066)            0.098246            0.098246  0.052632   \n",
      "22     (41066)     (40310)            0.098246            0.122807  0.052632   \n",
      "0      (10348)     (12147)            0.098246            0.105263  0.056140   \n",
      "1      (12147)     (10348)            0.105263            0.098246  0.056140   \n",
      "2      (10348)     (25922)            0.098246            0.098246  0.056140   \n",
      "3      (25922)     (10348)            0.098246            0.098246  0.056140   \n",
      "17     (25922)     (40310)            0.098246            0.122807  0.056140   \n",
      "20     (36955)     (40310)            0.080702            0.122807  0.056140   \n",
      "9      (12147)     (40310)            0.105263            0.122807  0.059649   \n",
      "\n",
      "    confidence      lift  leverage  conviction  zhangs_metric  \n",
      "5     0.535714  4.362245  0.040566    1.889339       0.854734  \n",
      "6     0.681818  5.551948  0.043152    2.756892       0.888466  \n",
      "10    0.681818  6.939935  0.045048    2.834085       0.927503  \n",
      "11    0.535714  6.939935  0.045048    1.987584       0.949157  \n",
      "14    0.681818  6.939935  0.045048    2.834085       0.927503  \n",
      "15    0.535714  6.939935  0.045048    1.987584       0.949157  \n",
      "18    0.535714  5.452806  0.042979    1.942240       0.905577  \n",
      "19    0.535714  5.452806  0.042979    1.942240       0.905577  \n",
      "22    0.535714  4.362245  0.040566    1.889339       0.854734  \n",
      "0     0.571429  5.428571  0.045799    2.087719       0.904669  \n",
      "1     0.533333  5.428571  0.045799    1.932331       0.911765  \n",
      "2     0.571429  5.816327  0.046488    2.104094       0.918288  \n",
      "3     0.571429  5.816327  0.046488    2.104094       0.918288  \n",
      "17    0.571429  4.653061  0.044075    2.046784       0.870623  \n",
      "20    0.695652  5.664596  0.046230    2.882206       0.895754  \n",
      "9     0.566667  4.614286  0.046722    2.024291       0.875433  \n"
     ]
    }
   ],
   "source": [
    "#输出强关联规则\n",
    "h_rules = rules.loc[(rules['support'] > 0.05) & (rules['confidence'] > 0.5)]\n",
    "print('强关联规则：\\n',h_rules.sort_values(by='support'))"
   ]
  },
  {
   "cell_type": "markdown",
   "id": "1b85b174",
   "metadata": {},
   "source": [
    "5.  结果分析与应用: 分析得到的关联规则，为网站提供导航结构优化建议，以提升用户体验。\n",
    "\n",
    "针对上述得出的强关联规则，以第一行为例，可以看出，（10348）->（40310）为强关联规则，说明用户访问这两个网站的关联性较强，可以按照关联规则向用户推荐常访问的网站信息，并提供网站跳转链接信息。"
   ]
  },
  {
   "cell_type": "code",
   "execution_count": null,
   "id": "6ab0b65e",
   "metadata": {},
   "outputs": [],
   "source": [
    "    antecedents consequents  antecedent support  consequent support   support  \\\n",
    "5      (10348)     (40310)            0.098246            0.122807  0.052632  \n",
    "    print()"
   ]
  }
 ],
 "metadata": {
  "kernelspec": {
   "display_name": "Python 3 (ipykernel)",
   "language": "python",
   "name": "python3"
  },
  "language_info": {
   "codemirror_mode": {
    "name": "ipython",
    "version": 3
   },
   "file_extension": ".py",
   "mimetype": "text/x-python",
   "name": "python",
   "nbconvert_exporter": "python",
   "pygments_lexer": "ipython3",
   "version": "3.11.2"
  }
 },
 "nbformat": 4,
 "nbformat_minor": 5
}
